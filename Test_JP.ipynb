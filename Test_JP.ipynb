{
  "cells": [
    {
      "cell_type": "markdown",
      "metadata": {
        "id": "view-in-github",
        "colab_type": "text"
      },
      "source": [
        "<a href=\"https://colab.research.google.com/github/josepablortiz/Aguacate/blob/main/Test_JP.ipynb\" target=\"_parent\"><img src=\"https://colab.research.google.com/assets/colab-badge.svg\" alt=\"Open In Colab\"/></a>"
      ]
    },
    {
      "cell_type": "markdown",
      "metadata": {
        "id": "IW9KXZf0CMGz"
      },
      "source": [
        "# Narrative Wave Test\n",
        "José Pablo Ortiz"
      ]
    },
    {
      "cell_type": "code",
      "execution_count": null,
      "metadata": {
        "id": "VWEEgZHlxO7m"
      },
      "outputs": [],
      "source": [
        "import pandas as pd\n",
        "import matplotlib.pyplot as plt\n",
        "import numpy as np\n",
        "import scipy.stats as st\n",
        "import  more_itertools#Rolling Window Generator\n",
        "from matplotlib import animation"
      ]
    },
    {
      "cell_type": "markdown",
      "metadata": {
        "id": "V5SjHRtlEsPk"
      },
      "source": [
        "# Introduction\n",
        "\n",
        "There is a submersible hydraulic pump, and it is of interest in analyzing the behavior of this device. Specially, it is of interest to monitor when the hydraulic pump is failing. Statistical Process Control(SPC) is a series of method employed to monitor and control the quality of a process. A no parametric statistical process control method is used to analyze the behavior of the pump failure data.\n",
        "\n",
        "First, a brief introudction of the key concepts of statistical control process is presented. Then an empirical analysis and a SPC modelation of the pump failure data is gonna be made. To end this test, a proposed algorithm to monitor the pump failure data is gonna be made.\n"
      ]
    },
    {
      "cell_type": "markdown",
      "metadata": {
        "id": "Yapz57jcLH9f"
      },
      "source": [
        "# Statistical Control Process\n"
      ]
    },
    {
      "cell_type": "markdown",
      "metadata": {
        "id": "jSQxqNXQIeHJ"
      },
      "source": [
        "Statistical Process Control(SPC) is a series of techniques used to monitor and control the quality of a process. A process is $\\textbf{In Control}$(IC) when it satisfies the quality characteristics set by the experimenter and the sources of variation are common causes. The process is $\\textbf{Out of Control}$(OC) when the quality of the process is defective and the sources of variation are special causes. In a few words, a process presents $\\textbf{common causes}$ of variation when the noise is stable and inherent within the system[Wiki]. The $\\textbf{special causes}$ of variation occurs when the noise of the process is outside the historical experience base and it is significantly higher than the common causes of variation[Wiki]. Thus, the task of SPC can be summarized as identifying when a special cause of variation has occurred that has driven the process to an OC status. \n",
        "\n"
      ]
    },
    {
      "cell_type": "markdown",
      "metadata": {
        "id": "RgeMHzwH8iQv"
      },
      "source": [
        "## Brief techniqual details\n"
      ]
    },
    {
      "cell_type": "markdown",
      "metadata": {
        "id": "ea84KB3ELNLr"
      },
      "source": [
        "###Control Chart"
      ]
    },
    {
      "cell_type": "markdown",
      "metadata": {
        "id": "mueFPDQ0zSCV"
      },
      "source": [
        "A control chart is a run chart with 3 control limits: **central line**(CL), **upper control limit**(UCL) and **lower control limit**(LCL). The values of observed values of a **charting statistic** are plotted on the control chart. Then, the control limits aid the user to define rules and to decide whether a process is IC or OC.[Chak] \n",
        "\n",
        "\n",
        "Let $\\left(X_t\\right)_{t=1}^{nm}$ be a sample of the process of intereset, the way data is going to be handeled during this test is through $m$ rolling window of size $n$ and stride $n$ from $\\left(X_t\\right)_{t=1}^{nm}$. That,\n",
        "$$\\left\\{(X_t)_{t=1}^{n},(X_t)_{t=n}^{2n},\\dots,(X_t)_{t=(m-1)n}^{mn}\\right\\}.$$\n",
        "\n",
        "This is done because each charting statistic, $T_i$, is calculated as $$T_i = T(X_{(i-1)n++1},\\dots,X_{(i-1)n+m}),$$ \n",
        "where $T:\\mathbb{R}^{n}\\rightarrow \\mathbb{R}$ is the charting statistic function"
      ]
    },
    {
      "cell_type": "code",
      "execution_count": null,
      "metadata": {
        "colab": {
          "base_uri": "https://localhost:8080/",
          "height": 281
        },
        "id": "tIr8-yphI01a",
        "outputId": "a863c719-4d1e-4183-928f-646df36f68bf"
      },
      "outputs": [
        {
          "output_type": "display_data",
          "data": {
            "text/plain": [
              "<Figure size 432x288 with 1 Axes>"
            ],
            "image/png": "[encoded data removed]"
          },
          "metadata": {
            "needs_background": "light"
          }
        }
      ],
      "source": [
        "n = 6\n",
        "m = 30\n",
        "\n",
        "#Chartin Statistic: mean\n",
        "np.random.seed(133)\n",
        "dataIC = np.mean(np.random.normal(scale = 1,size = [m-5,n]),axis = 1)\n",
        "\n",
        "np.random.seed(12)\n",
        "dataOC = np.mean(np.random.normal(scale = 2,loc = 1,size = [5,n]),axis = 1)\n",
        "\n",
        "xIC = np.linspace(0,m-5,m-5)\n",
        "xOC = np.linspace(m-5,m,5)\n",
        "z_value = st.norm.ppf(0.95,scale = 1) \n",
        "\n",
        "plt.scatter(x=xIC,y = dataIC,label = 'IC',color = 'blue')\n",
        "plt.scatter(x = xOC,y =dataOC,label='OC',color = 'orange')\n",
        "plt.hlines(y =z_value,xmin = 0,xmax=35,color = 'red',label = 'UCL and LCL')\n",
        "plt.hlines(y =-z_value,xmin = 0,xmax=35 ,color = 'red',label = 'UCL and LCL')\n",
        "plt.hlines(y =0,xmin = 0,xmax=35 ,color = 'black',label = 'CL')\n",
        "plt.title('Example of Control Chart')\n",
        "plt.legend()\n",
        "plt.show()"
      ]
    },
    {
      "cell_type": "markdown",
      "metadata": {
        "id": "7_rktrFaLYlU"
      },
      "source": [
        "### Hypothesis testing\n"
      ]
    },
    {
      "cell_type": "markdown",
      "metadata": {
        "id": "Yhkfa-7pzAqe"
      },
      "source": [
        "The mathematical/statistical way of fundamenting this technique is through sequential hypothesis testing. The experimenter needs to establish when the process is IC and OC, i.e., the process is OC if the variance is to high or if there has been a mean shift. Then, the following test is performed\n",
        "\n",
        "\\begin{equation}\n",
        "H_0:\\text{process is IC}\\quad\\text{vs.}\\quad H_1:\\text{process is OC}.\n",
        "\\end{equation}\n",
        "\n",
        "How the data behaves will dictate wheter to perform a parametric or non-parametric test. Getting ahead on the narrative, the SPC technique will be employed  is based on a non-parametric test."
      ]
    },
    {
      "cell_type": "markdown",
      "metadata": {
        "id": "fik82BdO6SDG"
      },
      "source": [
        "# Modeling the pump failures using SPC"
      ]
    },
    {
      "cell_type": "code",
      "execution_count": null,
      "metadata": {
        "id": "1OnjU5Q1awYt"
      },
      "outputs": [],
      "source": [
        "df = pd.read_csv('PumpFailure.csv',index_col=0)\n",
        "df.index = pd.to_datetime(df.index)\n",
        "#Data had some duplicated observations with similar value,\n",
        "#no problem in keeping the first ones.\n",
        "df = df[~df.index.duplicated(keep='first')]"
      ]
    },
    {
      "cell_type": "code",
      "execution_count": null,
      "metadata": {
        "colab": {
          "base_uri": "https://localhost:8080/",
          "height": 305
        },
        "id": "eVMU3bJBCLgB",
        "outputId": "7fce98e6-c3ad-40b5-b8ce-f547114fa70b"
      },
      "outputs": [],
      "source": [
        "from IPython.display import Image\n",
        "Image(open('pump.gif','rb').read())"
      ]
    },
    {
      "cell_type": "markdown",
      "metadata": {
        "id": "CJLFXAgFnMQP"
      },
      "source": [
        "## Empirical observations of the pump"
      ]
    },
    {
      "cell_type": "markdown",
      "metadata": {
        "id": "400XtiqsC5FM"
      },
      "source": [
        "Let $(X_t)_{t\\geq 1}$ be the hydraulic pump process. The animation shown up is the process $(X_t)_{t\\geq 1}$. After a visual analysis of the animation the following statements can be made about the behavior of $(X_t)_{t\\geq 1}$:\n",
        "\n",
        "1. There are 2 special causes of variation: a fail and a fix. A fail will drive the pump of the series to a lower level and a fix to a higher.\n",
        "2. If the process has a mean larger than 65 it **may** satisfy the quality requirements.\n",
        "2.   When the process is IC both the mean and variance of the pump are relatively stable.\n",
        "3.   When a failure occurs the pump decreases gradually, it will decrease until a fix is made, and the variance of the series grows. \n",
        "4.   After a fix has been made the pump increases and the variance is larger than in the IC status.\n",
        "5.   A fix can be defective in the sense that there are pump increments, but the process never achieves an IC status.\n",
        "6.   If the fix is not defective the new location of the IC run will not necessarily be the same location as the in the last IC run.\n",
        "7.   After a big increase of the pump, caused by a fix, there will big drop of the pump. This is due to the OC status of the process after a fix "
      ]
    },
    {
      "cell_type": "markdown",
      "metadata": {
        "id": "6_Vlgh8_nYr-"
      },
      "source": [
        "## First Difference"
      ]
    },
    {
      "cell_type": "markdown",
      "metadata": {
        "id": "QUp-dcC_nJft"
      },
      "source": [
        "The fact that the mean/location of the process can vary between IC runs of the process, eliminates the idea to test the process for a mean/location shift. A test for a variance change might sound plausible, but again it seems that the value of the variance might change from different IC runs. Although, there   \n",
        "\n",
        "\n",
        "Let's consider the first difference process\n",
        "\\begin{equation}\n",
        "  Y_t = X_{t+1}-X_{t}.\n",
        "\\end{equation}\n",
        "\n",
        "If the pump process it is expected that the IC mean/location of $(Y_t)$ will be 0. More so, if a failure(fix) has occurred and the mean/location of $Y_t$ is gonna be negative(positive). Although after a failure(fix) the exact location of $(Y_t)$ is not known, it can be set by the experimenter in a trial an error way.\n",
        "\n",
        "Perhaps the biggest danger in monitoring the $(Y_t)$ process is that the monitoring task will not take into account the location of $(X_t)$. We accept this risk, because in practice when the location of $(X_t)$ is low then the person in charge of monitoring the process should notice that notice.\n",
        "\n",
        "Thus, a location test of $(Y_t)$ is gonna be the base for the monitoring task of $(X_t)$.\n",
        "\n"
      ]
    },
    {
      "cell_type": "markdown",
      "metadata": {
        "id": "5JrnG6JdnoQs"
      },
      "source": [
        "## Parametric vs No Parametric\n",
        "\n",
        "\n",
        "\n"
      ]
    },
    {
      "cell_type": "code",
      "execution_count": null,
      "metadata": {
        "colab": {
          "base_uri": "https://localhost:8080/",
          "height": 305
        },
        "id": "SmNDnoJV0dXG",
        "outputId": "f7e6f99d-69bc-4dca-dace-5dc73896c58f"
      },
      "outputs": [],
      "source": [
        "from IPython.display import Image\n",
        "Image(open('vardif.gif','rb').read())"
      ]
    },
    {
      "cell_type": "markdown",
      "metadata": {
        "id": "JIccpWSUw8qj"
      },
      "source": [
        "A no parametric location test will be used the for the following reasons:\n",
        "\n",
        "\n",
        "\n",
        "1.   In a parametric test the variance of the IC process needs to be estimated. It's not clear whether the variance of $(Y_t)$ is the same for different run of IC.\n",
        "2.   In the context of SPC usually it's assumed that the data follows a normal distribution. For a given $n$, the size of the rolling window, the animation above shows that although the data is symmetric, it doesn't follows the normal distribution.\n",
        "3.   The assumptions of a No Parametric test are far less restricting than in the parametric case. Usually the only assumptions is symmetry, which $(Y_t)$ follows.\n"
      ]
    },
    {
      "cell_type": "markdown",
      "metadata": {
        "id": "n4Q6VDX3u43x"
      },
      "source": [
        "## Wilcoxn Signed Rank test\n",
        "\n"
      ]
    },
    {
      "cell_type": "markdown",
      "metadata": {
        "id": "tOydJmn70uL_"
      },
      "source": [
        "\n",
        "'The one-sample Wilcoxon signed-rank test it is used to test whether data comes from a symmetric population with a specified location.'[Conover] A two sided Wilcoxn signed-rank test has the following hypothesis:\n",
        "\\begin{equation}\n",
        "  H_0: \\mu = \\mu_0 = 0 \\quad\\text{vs.}\\quad H_1: \\mu\\leq \\mu_0 = 0.\n",
        "\\end{equation}\n",
        "\n",
        "Without going into details the statistic used in the Wilcoxon signed-rank is \n",
        "\\begin{equation}\n",
        "SR=\\sum _{s=1}^{n} = \\mbox{sign}(X_{s}-\\mu_0)R_{s},\n",
        "\\end{equation}\n",
        "where $R_{s}$ is 'the rank of the absolute deviation of $|X_s-\\mu_0|$ among $\\left\\{|X_1-\\mu_0|,\\dots,|X_n-\\mu_0|\\right\\}$.'[chak] The null hypothesis will be rejected if $|SR|>a$, for some positive $a$.\n",
        "\n",
        "A one sided test can be devised in a similar way as the two sided. \n"
      ]
    },
    {
      "cell_type": "markdown",
      "metadata": {
        "id": "kwSM1VQH343g"
      },
      "source": [
        "## Exponentially Weighted Moving Average based on the Wilcoxn signed rank test\n"
      ]
    },
    {
      "cell_type": "markdown",
      "metadata": {
        "id": "B6Q1QDX_38-f"
      },
      "source": [
        "'The Exponentially Weighted Moving Average (EWMA) is a statistic for monitoring the process that averages the data in a way that gives less and less weight to data as they are further removed in time.'[NIST] This last reason makes the EWMA SPC technique useful for the task of monitoring the $(Y_t)$ process.\n",
        "\n",
        "In order to calculate the charting statistic, from an EWMA based on a two sided Wilcoxn Signed Rank test, first the Wilcoxn statistic from a rolling window of size $n$ is calculated\n",
        "\n",
        "\\begin{equation}\n",
        "SR_t = \\sum_{s = 1}^{n}\\mbox{sign}(Y_{ts}-\\mu_0)R_{ts}.\n",
        "\\end{equation}\n",
        "Then the charting statistic, $Z_t$, is calculated through the following recursion:\n",
        "\\begin{equation}\n",
        "Z_t = \\lambda SR_t+ (1-\\lambda)Z_{t-1}\n",
        "\\end{equation}\n",
        "with $Z_0 = 0$ and '$\\lambda$ is a constant that determines the depth of memory of the EWMA'[NIST], and it is set by the experimenter."
      ]
    },
    {
      "cell_type": "markdown",
      "metadata": {
        "id": "Lbmt4bOs9XaN"
      },
      "source": [
        "## IC process to OC"
      ]
    },
    {
      "cell_type": "markdown",
      "metadata": {
        "id": "jEkb9qyd9fTZ"
      },
      "source": [
        "When $Y_t$ is IC it is gonna be established that the process has an OC when there has been a down shift. Thus, the test hypothesis is a one sided test\n",
        "\n",
        "\\begin{equation}\n",
        "  H_0: \\mu = \\mu_0 = 0 \\quad\\text{vs.}\\quad H_1: \\mu\\leq \\mu_0 = 0,\n",
        "\\end{equation}\n",
        "if we reject $H_0$ there is evidence that the process is OC. Given that this is a one sided test the charting statistic will be given by\n",
        "\n",
        "\\begin{equation}\n",
        "Z^{+}_t = \\max(0,\\lambda SR_t+ (1-\\lambda)Z_{t-1}),\n",
        "\\end{equation}\n",
        "and the process will enter an OC status if \n",
        "\n",
        "\\begin{equation}\n",
        "Z^{+}_t < -L\\sigma_{SR_t}\\sqrt{\\frac{\\lambda}{2-\\lambda}\\left(1-(1-\\lambda\\right)^{2t})}=LCL,\n",
        "\\end{equation}\n",
        "where $L$ is set by the experimenter and $\\sigma_{SR_t}=\\sqrt{\\frac{n(n+1)(2n+1)}{6}}$ is the variance of the $SR_t$ statistic.[Chak]\n"
      ]
    },
    {
      "cell_type": "code",
      "execution_count": null,
      "metadata": {
        "id": "-paWsU__wFyM"
      },
      "outputs": [],
      "source": [
        "def rank(X,mu):\n",
        "  aux = np.abs(np.asarray(X)-mu)\n",
        "  ranks = np.argsort(np.argsort(aux))\n",
        "  return ranks+1\n"
      ]
    },
    {
      "cell_type": "code",
      "execution_count": null,
      "metadata": {
        "id": "My5YT2W0vtPf"
      },
      "outputs": [],
      "source": [
        "def EWMASingRankIC(rw_dif,n):\n",
        "  Z = [0]\n",
        "  lam = 0.3\n",
        "  t = 0\n",
        "  tt = 1\n",
        "  var = np.sqrt((n*(n+1)*(2*n+1))/6)\n",
        "  L = 1\n",
        "  for x in rw_dif[0:-1]:\n",
        "    sign = np.sign(x)\n",
        "    rank_aux = rank(x,0)\n",
        "    Z.append(np.min([0,lam*np.sum(sign*rank_aux)+(1-lam)*Z[-1]]))\n",
        "    LCL = -L*var*np.sqrt((lam/(2-lam))*(1-(1-lam)**(2*tt)))\n",
        "    tt = tt+1\n",
        "    if Z[-1]<LCL:\n",
        "      t = t+n\n",
        "      break\n",
        "    t = t+n\n",
        "  return t\n"
      ]
    },
    {
      "cell_type": "markdown",
      "metadata": {
        "id": "yjsIXeU6Bn05"
      },
      "source": [
        "## OC process to IC"
      ]
    },
    {
      "cell_type": "markdown",
      "metadata": {
        "id": "ZYBeLqDqBvhl"
      },
      "source": [
        "When $X_t$ is OC there are big decrements and increments of the pump. The reason why there are decrements is because a failure has ocurred. On the other hand, increments occurs because of a fix. As stated before a fix can be defective and after a fix there might be big decrements; i.e., when $X_t$ has been fixed it presents a lot of variance.\n",
        "\n",
        "Thus OC process can have two status: fail and fix. When a process is OC-fail status the hypothesis test that is gonna be performed is \n",
        "\n",
        "\\begin{equation}\n",
        "  H_0: \\mu = \\mu_0 \\quad\\text{vs.}\\quad H_1: \\mu\\geq -\\mu_0,\n",
        "\\end{equation}\n",
        "for some $\\mu_0<0$ and the charting statistic is\n",
        "\\begin{equation}\n",
        "Z^{-}_t = \\max(0,\\lambda SR_t+ (1-\\lambda)Z_{t-1}),\n",
        "\\end{equation}\n",
        "and the process will leave the OC-fail status if \n",
        "\\begin{equation}\n",
        "Z^{-}_t >L\\sigma_{SR_t}\\sqrt{\\frac{\\lambda}{2-\\lambda}\\left(1-(1-\\lambda\\right)^{2t})}>UCL.\n",
        "\\end{equation}\n",
        "\n",
        "The OC-fix test is similar to the IC test, but with $\\mu_0>0$.[Chak]\n"
      ]
    },
    {
      "cell_type": "code",
      "execution_count": null,
      "metadata": {
        "id": "dbyZF2KawAdM"
      },
      "outputs": [],
      "source": [
        "def EWMASingRankFailOC(rw_dif,n):\n",
        "  Z = [0]\n",
        "  lam = 0.3\n",
        "  t = 0\n",
        "  tt = 1\n",
        "  var = np.sqrt((n*(n+1)*(2*n+1))/6)\n",
        "  L = 1\n",
        "  for x in rw_dif[0:-1]:\n",
        "    sign = np.sign(x)\n",
        "    rank_aux = rank(x,-0.2)\n",
        "    Z.append(np.max([0,lam*np.sum(sign*rank_aux)+(1-lam)*Z[-1]]))\n",
        "    UCL = L*var*np.sqrt((lam/(2-lam))*(1-(1-lam)**(2*tt)))\n",
        "    tt = tt+1\n",
        "    if Z[-1]>UCL:\n",
        "      t = t+n\n",
        "      break\n",
        "    t = t+n\n",
        "  return t"
      ]
    },
    {
      "cell_type": "code",
      "execution_count": null,
      "metadata": {
        "id": "pD0dYXIVv8c8"
      },
      "outputs": [],
      "source": [
        "def EWMASingRankFixOC(rw_dif,n):\n",
        "  Z = [0]\n",
        "  lam = 0.3\n",
        "  t = 0\n",
        "  tt = 1\n",
        "  var = np.sqrt((n*(n+1)*(2*n+1))/6)\n",
        "  L = 1\n",
        "  for x in rw_dif[0:-1]:\n",
        "    sign = np.sign(x)\n",
        "    rank_aux = rank(x,0.2)\n",
        "    Z.append(np.min([0,lam*np.sum(sign*rank_aux)+(1-lam)*Z[-1]]))\n",
        "    LCL = -L*var*np.sqrt((lam/(2-lam))*(1-(1-lam)**(2*tt)))\n",
        "    tt = tt+1\n",
        "    if Z[-1]<LCL:\n",
        "      t = t+n\n",
        "      break\n",
        "    t = t+n\n",
        "  return t"
      ]
    },
    {
      "cell_type": "markdown",
      "metadata": {
        "id": "RHqSTtDtKVFe"
      },
      "source": [
        "# SPC algorithm  to monitor the pump"
      ]
    },
    {
      "cell_type": "code",
      "execution_count": null,
      "metadata": {
        "colab": {
          "base_uri": "https://localhost:8080/",
          "height": 737
        },
        "id": "Umd3lObULCsA",
        "outputId": "a1b3d70e-4b0e-4da0-e468-06543124ca66"
      },
      "outputs": [
        {
          "output_type": "execute_result",
          "data": {
            "text/plain": [
              "<IPython.core.display.Image object>"
            ],
            "image/png": "[encoded data removed]"
          },
          "metadata": {},
          "execution_count": 37
        }
      ],
      "source": [
        "from IPython.display import Image\n",
        "Image(open('SPC_alg.png','rb').read())"
      ]
    },
    {
      "cell_type": "markdown",
      "metadata": {
        "id": "3C1vhVZ-S0-b"
      },
      "source": [
        "\n",
        "The images above shows how the algorithm determines the status of the process. It was constructed in a logical way. Let's say that the process begins in an OC-Fix status, as in the pump data, then after changing to another given the nature of OC status it can happen that the fix was defective or that a lot \n",
        "\n",
        "\n",
        "*   IC: The only way of gettin out the IC status is if there's been a location shift to a lower level. That shift meant that a failure has happen. Therefore, to process moves to OC-Fail status.\n",
        "*   OC-Fail: The new location of the $Y_t$ is negative, the parameter $\\mu_0$ was set to $-0.1$ in an empirical way, it will change to positive only if there's been a Fix\n",
        "*   OC-Fix: This is the most troublesome status. After a fix the variance of the process is unstable, the fix can be defective and it is almost always followed by a big decrements. Thus, when the process leaves the OC-Fix status it will move to the status with the largest run length. \n",
        "\n",
        "The **run length**, $RL$, is the time the process stays in a status before changing to another one. The run length depends on the size of the test, in fact it's proportional to the inverse of the size. Thus, in order to be able to  compare the run length of IC run and OC-Fail, it is needed that those tests have the same size. Given the no parametric approach of the problem the size of the test is not known.  Nevertheless, by setting the parameters $\\lambda$ and $L$ equal across the IC and OC-Fail status will ensure that size of the test is equal in both status, which in turn implies that the status with the largest run length has a better fit on the data."
      ]
    },
    {
      "cell_type": "code",
      "execution_count": null,
      "metadata": {
        "id": "sFINIGB_xHRj"
      },
      "outputs": [],
      "source": [
        "df = pd.read_csv('PumpFailure.csv',index_col=0)\n",
        "df.index = pd.to_datetime(df.index)\n",
        "df = df[~df.index.duplicated(keep='first')]\n",
        "\n",
        "nm = len(df)\n",
        "t_list = [0]\n",
        "n = 20\n",
        "df['status'] = np.nan\n",
        "\n",
        "\n",
        "rw_dif = list(more_itertools.windowed(df['value'].diff(1),n,step= n))\n",
        "rw =  list(more_itertools.windowed(df['value'],n,step= n))\n",
        "t1 = EWMASingRankFixOC(rw_dif[1:],n)\n",
        "t_list.append(t1)\n",
        "process = 'OCFix'\n",
        "df['status'][np.sum(t_list[0:-1]):np.sum(t_list)] = process\n",
        "\n",
        "\n",
        "while np.sum(t_list)<nm-2*n:\n",
        "    rw_dif = list(more_itertools.windowed(df['value'][np.sum(t_list)-n:].diff(1),n,step= n))[1:]\n",
        "    if process == 'In Control':\n",
        "      t_aux = EWMASingRankFailOC(rw_dif,n)\n",
        "      process = 'OCFail'\n",
        "      t_list.append(t_aux)\n",
        "    elif process == 'OCFail':\n",
        "      t_aux = EWMASingRankFixOC(rw_dif,n)\n",
        "      process = 'OCFix'\n",
        "      t_list.append(t_aux)\n",
        "    else:\n",
        "      t_aux1 = EWMASingRankIC(rw_dif,n)\n",
        "      t_aux2 = EWMASingRankFailOC(rw_dif,n)\n",
        "      t_aux = np.max(np.asarray([t_aux1,t_aux2]))\n",
        "      if t_aux1 == t_aux2:\n",
        "        process = 'In Control'\n",
        "      else:\n",
        "        if t_aux==t_aux1:\n",
        "          process = 'In Control'\n",
        "        else:\n",
        "          process = 'OCFail'\n",
        "      t_list.append(t_aux)\n",
        "    df['status'][np.sum(t_list[0:-1]):np.sum(t_list)] = process"
      ]
    },
    {
      "cell_type": "code",
      "execution_count": null,
      "metadata": {
        "id": "Ylu4_Yn45NkI"
      },
      "outputs": [],
      "source": [
        "color = {'OCFix':'blue','In Control': 'green','OCFail':'red'}\n",
        "df = df.replace({\"status\": color})\n",
        "\n",
        "interval_len = 3000\n",
        "init = 2323\n",
        "x = np.linspace(init,init+interval_len,interval_len)\n",
        "plt.scatter(x = x,y= df['value'][init:init+interval_len],color = df['status'][init:init+interval_len])\n",
        "plt.show()"
      ]
    },
    {
      "cell_type": "code",
      "execution_count": null,
      "metadata": {
        "colab": {
          "base_uri": "https://localhost:8080/",
          "height": 305
        },
        "id": "bDVK0k7pdB1w",
        "outputId": "42f81cb0-d724-4c17-c8d3-d8b2d5562eb9"
      },
      "outputs": [],
      "source": [
        "from IPython.display import Image\n",
        "Image(open('spc.gif','rb').read())"
      ]
    },
    {
      "cell_type": "markdown",
      "metadata": {
        "id": "hVqmoc6fS9o0"
      },
      "source": [
        "# Conclusions\n",
        "\n",
        "1.   Forecasting Failures: This method is useful in preventing  catastrophic failures. The reason being that, in some cases, before a catastrophic fail there is a fail. If this fail is not fixed it will led to a catastrophic fail. \n",
        "2.   Speed: This method is quite fast.\n",
        "3.   The method is very sensitive to $n$, the rolling window size.\n",
        "4.   More can be done. Estimation through simulation of the run length and False Alarme Rate(type 1 error) of the IC and OC processes. This former could  be of help in the task of forecasting failures. \n"
      ]
    },
    {
      "cell_type": "markdown",
      "metadata": {
        "id": "PRfRMRcTW5Oj"
      },
      "source": [
        "# References\n",
        "\n",
        "[Chak] Chakraborti, S., & Graham, M. (2019). Nonparametric Statistical Process Control (1st ed.). Wiley.\n",
        "\n",
        "[Con] Conover, W. J. (1971). Practical nonparametric statistics (First Edition). Wiley.\n",
        "\n",
        "[NIST] NIST/SEMATECH e-Handbook of Statistical Methods, http://www.itl.nist.gov/div898/handbook/, Retrieved June 4, 2022.\n",
        "\n",
        "[Wiki] Wikipedia contributors. (2022, February 18). Common cause and special cause (statistics). Wikipedia. Retrieved June 4, 2022."
      ]
    }
  ],
  "metadata": {
    "colab": {
      "collapsed_sections": [],
      "name": "Test_JP.ipynb",
      "provenance": [],
      "authorship_tag": "ABX9TyNM+Q0PYnv/HXex14qCvR76",
      "include_colab_link": true
    },
    "kernelspec": {
      "display_name": "Python 3",
      "name": "python3"
    },
    "language_info": {
      "name": "python"
    }
  },
  "nbformat": 4,
  "nbformat_minor": 0
}